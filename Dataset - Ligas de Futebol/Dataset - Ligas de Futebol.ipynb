{
 "cells": [
  {
   "cell_type": "code",
   "execution_count": 2,
   "id": "8b426830",
   "metadata": {},
   "outputs": [],
   "source": [
    "import numpy as np\n",
    "import pandas as pd\n",
    "import matplotlib.pyplot as plt\n",
    "import seaborn as sns\n",
    "from sklearn.model_selection import train_test_split\n",
    "from sklearn.preprocessing import LabelEncoder, MinMaxScaler\n",
    "from sklearn.naive_bayes import GaussianNB, BernoulliNB, MultinomialNB\n",
    "from sklearn.metrics import confusion_matrix, classification_report, f1_score, precision_score, recall_score, accuracy_score\n",
    "from sklearn.naive_bayes import GaussianNB\n"
   ]
  },
  {
   "cell_type": "code",
   "execution_count": 3,
   "id": "ed736c82",
   "metadata": {},
   "outputs": [],
   "source": [
    "dados = pd.read_csv('top5-players.csv')"
   ]
  },
  {
   "cell_type": "code",
   "execution_count": 4,
   "id": "0eab7cad",
   "metadata": {
    "scrolled": true
   },
   "outputs": [
    {
     "name": "stdout",
     "output_type": "stream",
     "text": [
      "   Rk             Player   Nation    Pos           Squad                Comp  \\\n",
      "0   1         Max Aarons  eng ENG     DF     Bournemouth  eng Premier League   \n",
      "1   2   Brenden Aaronson   us USA  MF,FW    Union Berlin       de Bundesliga   \n",
      "2   3    Paxten Aaronson   us USA     MF  Eint Frankfurt       de Bundesliga   \n",
      "3   4  Keyliane Abdallah   fr FRA     FW       Marseille          fr Ligue 1   \n",
      "4   5   Yunis Abdelhamid   ma MAR     DF           Reims          fr Ligue 1   \n",
      "\n",
      "    Age    Born  MP  Starts  ...  Gls_90  Ast_90  G+A_90  G-PK_90  G+A-PK_90  \\\n",
      "0  23.0  2000.0  20      13  ...    0.00    0.07    0.07     0.00       0.07   \n",
      "1  22.0  2000.0  30      14  ...    0.14    0.14    0.28     0.14       0.28   \n",
      "2  19.0  2003.0   7       1  ...    0.00    0.89    0.89     0.00       0.89   \n",
      "3  17.0  2006.0   1       0  ...    0.00    0.00    0.00     0.00       0.00   \n",
      "4  35.0  1987.0  31      31  ...    0.13    0.00    0.13     0.10       0.10   \n",
      "\n",
      "   xG_90  xAG_90  xG+xAG_90  npxG_90  npxG+xAG_90  \n",
      "0   0.00    0.06       0.06     0.00         0.06  \n",
      "1   0.14    0.13       0.27     0.14         0.27  \n",
      "2   0.11    0.07       0.19     0.11         0.19  \n",
      "3   0.00    0.00       0.00     0.00         0.00  \n",
      "4   0.11    0.01       0.12     0.09         0.09  \n",
      "\n",
      "[5 rows x 37 columns]\n"
     ]
    }
   ],
   "source": [
    "# Exibir as primeiras linhas e as colunas do DataFrame\n",
    "print(dados.head())"
   ]
  },
  {
   "cell_type": "code",
   "execution_count": 5,
   "id": "7172cc39",
   "metadata": {},
   "outputs": [
    {
     "name": "stdout",
     "output_type": "stream",
     "text": [
      "Index(['Rk', 'Player', 'Nation', 'Pos', 'Squad', 'Comp', 'Age', 'Born', 'MP',\n",
      "       'Starts', 'Min', '90s', 'Gls', 'Ast', 'G+A', 'G-PK', 'PK', 'PKatt',\n",
      "       'CrdY', 'CrdR', 'xG', 'npxG', 'xAG', 'npxG+xAG', 'PrgC', 'PrgP', 'PrgR',\n",
      "       'Gls_90', 'Ast_90', 'G+A_90', 'G-PK_90', 'G+A-PK_90', 'xG_90', 'xAG_90',\n",
      "       'xG+xAG_90', 'npxG_90', 'npxG+xAG_90'],\n",
      "      dtype='object')\n"
     ]
    }
   ],
   "source": [
    "print(dados.columns)"
   ]
  },
  {
   "cell_type": "code",
   "execution_count": 6,
   "id": "ba102936",
   "metadata": {},
   "outputs": [],
   "source": [
    "# Convertendo variáveis categóricas para numéricas\n",
    "label_encoders = {}\n",
    "categorical_columns = ['Nation', 'Squad', 'Comp', 'Pos']  # Adicione outras colunas categóricas conforme necessário\n"
   ]
  },
  {
   "cell_type": "code",
   "execution_count": 7,
   "id": "35c90bd1",
   "metadata": {},
   "outputs": [],
   "source": [
    "for col in categorical_columns:\n",
    "    if col in dados.columns:\n",
    "        le = LabelEncoder()\n",
    "        dados[col + '_encoded'] = le.fit_transform(dados[col])\n",
    "        label_encoders[col] = le\n",
    "    else:\n",
    "        print(f\"A coluna '{col}' não está presente no DataFrame.\")\n"
   ]
  },
  {
   "cell_type": "code",
   "execution_count": 8,
   "id": "d19cc55c",
   "metadata": {},
   "outputs": [],
   "source": [
    "# Normalização das colunas numéricas\n",
    "colunas_numericas = dados.select_dtypes(include=[np.number]).columns\n",
    "scaler = MinMaxScaler(feature_range=(0, 1))\n",
    "dados[colunas_numericas] = scaler.fit_transform(dados[colunas_numericas])\n"
   ]
  },
  {
   "cell_type": "code",
   "execution_count": 9,
   "id": "ae11f566",
   "metadata": {},
   "outputs": [],
   "source": [
    "# Seleção de colunas para o modelo\n",
    "colunas_para_remover = ['Player']  # Adicione outras colunas a serem removidas se necessário\n",
    "colunas_encoded = [col + '_encoded' for col in categorical_columns if col in dados.columns]\n",
    "X = dados.drop(colunas_para_remover + categorical_columns, axis=1, errors='ignore').values\n",
    "X = dados[colunas_encoded].values  # Use apenas colunas codificadas para o modelo"
   ]
  },
  {
   "cell_type": "code",
   "execution_count": 10,
   "id": "8287b562",
   "metadata": {},
   "outputs": [],
   "source": [
    "# Verifique se 'Pos_encoded' foi criada e use-a como variável dependente\n",
    "if 'Pos_encoded' in dados.columns:\n",
    "    Y = dados['Pos_encoded'].values\n",
    "else:\n",
    "    raise ValueError(\"A coluna 'Pos_encoded' não foi criada. Verifique a codificação das variáveis.\")\n"
   ]
  },
  {
   "cell_type": "code",
   "execution_count": 11,
   "id": "693df2c8",
   "metadata": {},
   "outputs": [],
   "source": [
    "# Verificar se Y é contínuo\n",
    "if np.issubdtype(Y.dtype, np.number):\n",
    "    # Converter valores contínuos para categorias discretas (exemplo simples usando binning)\n",
    "    Y = pd.cut(Y, bins=10, labels=False)\n"
   ]
  },
  {
   "cell_type": "code",
   "execution_count": 12,
   "id": "601a1884",
   "metadata": {},
   "outputs": [],
   "source": [
    "# Dividindo o dataset em conjunto de treino e teste\n",
    "X_treino, X_teste, Y_treino, Y_teste = train_test_split(X, Y, test_size=0.25, random_state=0)\n"
   ]
  },
  {
   "cell_type": "code",
   "execution_count": 14,
   "id": "826532ec",
   "metadata": {
    "scrolled": true
   },
   "outputs": [],
   "source": [
    "# Aplicando modelo Naive-Bayes\n",
    "# Modelo Gaussiano\n",
    "modelo1 = GaussianNB()\n",
    "modelo1.fit(X_treino, Y_treino)\n",
    "Y_previsto = modelo1.predict(X_teste)"
   ]
  },
  {
   "cell_type": "code",
   "execution_count": 15,
   "id": "863a85bc",
   "metadata": {},
   "outputs": [
    {
     "data": {
      "image/png": "[encoded data removed]",
      "text/plain": [
       "<Figure size 640x480 with 2 Axes>"
      ]
     },
     "metadata": {},
     "output_type": "display_data"
    }
   ],
   "source": [
    "# Gerando a matriz de confusão e métricas de avaliação\n",
    "cm1 = confusion_matrix(Y_teste, Y_previsto)\n",
    "sns.heatmap(cm1, annot=True, fmt=\"d\")\n",
    "plt.title(\"Matriz de Confusão - GaussianNB\")\n",
    "plt.show()"
   ]
  },
  {
   "cell_type": "code",
   "execution_count": 33,
   "id": "228bec4d",
   "metadata": {},
   "outputs": [
    {
     "name": "stdout",
     "output_type": "stream",
     "text": [
      "Acurácia (Treinamento): 100.00%\n",
      "Acurácia (Teste): 100.00%\n"
     ]
    }
   ],
   "source": [
    "print(\"Acurácia (Treinamento): {:.2f}%\".format(modelo1.score(X_treino, Y_treino) * 100))\n",
    "print(\"Acurácia (Teste): {:.2f}%\".format(modelo1.score(X_teste, Y_teste) * 100))"
   ]
  },
  {
   "cell_type": "code",
   "execution_count": 34,
   "id": "c08efd10",
   "metadata": {},
   "outputs": [
    {
     "name": "stdout",
     "output_type": "stream",
     "text": [
      "Relatório de Classificação - GaussianNB:\n",
      "              precision    recall  f1-score   support\n",
      "\n",
      "           0       1.00      1.00      1.00       219\n",
      "           1       1.00      1.00      1.00        15\n",
      "           2       1.00      1.00      1.00        32\n",
      "           3       1.00      1.00      1.00        94\n",
      "           4       1.00      1.00      1.00        10\n",
      "           5       1.00      1.00      1.00        71\n",
      "           6       1.00      1.00      1.00        52\n",
      "           7       1.00      1.00      1.00       148\n",
      "           8       1.00      1.00      1.00        19\n",
      "           9       1.00      1.00      1.00        53\n",
      "\n",
      "    accuracy                           1.00       713\n",
      "   macro avg       1.00      1.00      1.00       713\n",
      "weighted avg       1.00      1.00      1.00       713\n",
      "\n"
     ]
    }
   ],
   "source": [
    "# Métricas de classificação\n",
    "cr = classification_report(Y_teste, Y_previsto)\n",
    "print(\"Relatório de Classificação - GaussianNB:\")\n",
    "print(cr)"
   ]
  },
  {
   "cell_type": "code",
   "execution_count": 35,
   "id": "44cc2ed9",
   "metadata": {},
   "outputs": [
    {
     "name": "stdout",
     "output_type": "stream",
     "text": [
      "F1 score = 100.00%\n"
     ]
    }
   ],
   "source": [
    "f1 = f1_score(Y_teste, Y_previsto, average='macro')\n",
    "print(\"F1 score = {:0.2f}%\".format(f1 * 100))"
   ]
  },
  {
   "cell_type": "code",
   "execution_count": 36,
   "id": "2ec549cd",
   "metadata": {},
   "outputs": [
    {
     "name": "stdout",
     "output_type": "stream",
     "text": [
      "Precision score = 100.00%\n"
     ]
    }
   ],
   "source": [
    "precisao = precision_score(Y_teste, Y_previsto, average='macro')\n",
    "print(\"Precision score = {:0.2f}%\".format(precisao * 100))"
   ]
  },
  {
   "cell_type": "code",
   "execution_count": 37,
   "id": "4f780b53",
   "metadata": {},
   "outputs": [
    {
     "name": "stdout",
     "output_type": "stream",
     "text": [
      "Recall score = 100.00%\n"
     ]
    }
   ],
   "source": [
    "rec = recall_score(Y_teste, Y_previsto, average='macro')\n",
    "print(\"Recall score = {:0.2f}%\".format(rec * 100))"
   ]
  },
  {
   "cell_type": "code",
   "execution_count": 38,
   "id": "22cc0132",
   "metadata": {},
   "outputs": [
    {
     "name": "stdout",
     "output_type": "stream",
     "text": [
      "Accuracy score = 100.00%\n"
     ]
    }
   ],
   "source": [
    "\n",
    "acc = accuracy_score(Y_teste, Y_previsto)\n",
    "print(\"Accuracy score = {:0.2f}%\".format(acc * 100))"
   ]
  },
  {
   "cell_type": "code",
   "execution_count": 39,
   "id": "8c565d9b",
   "metadata": {},
   "outputs": [
    {
     "name": "stdout",
     "output_type": "stream",
     "text": [
      "Pos_encoded\n",
      "0.000000    848\n",
      "0.777778    569\n",
      "0.333333    403\n",
      "0.555556    320\n",
      "1.000000    245\n",
      "0.666667    203\n",
      "0.222222    108\n",
      "0.888889     81\n",
      "0.111111     47\n",
      "0.444444     28\n",
      "Name: count, dtype: int64\n"
     ]
    }
   ],
   "source": [
    "print(dados['Pos_encoded'].value_counts())\n"
   ]
  }
 ],
 "metadata": {
  "kernelspec": {
   "display_name": "Python 3 (ipykernel)",
   "language": "python",
   "name": "python3"
  },
  "language_info": {
   "codemirror_mode": {
    "name": "ipython",
    "version": 3
   },
   "file_extension": ".py",
   "mimetype": "text/x-python",
   "name": "python",
   "nbconvert_exporter": "python",
   "pygments_lexer": "ipython3",
   "version": "3.11.5"
  }
 },
 "nbformat": 4,
 "nbformat_minor": 5
}
