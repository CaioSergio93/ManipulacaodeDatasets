{
 "cells": [
  {
   "cell_type": "code",
   "execution_count": 61,
   "id": "3cb018f8",
   "metadata": {},
   "outputs": [],
   "source": [
    "import pandas as pd\n",
    "import numpy as np\n",
    "from sklearn.preprocessing import LabelEncoder, MinMaxScaler\n",
    "from sklearn.model_selection import train_test_split\n",
    "from sklearn.naive_bayes import GaussianNB\n",
    "from sklearn.metrics import confusion_matrix, classification_report  # Adicionei o classification_report aqui\n",
    "import seaborn as sns\n",
    "import matplotlib.pyplot as plt"
   ]
  },
  {
   "cell_type": "code",
   "execution_count": 41,
   "id": "468b6bfa",
   "metadata": {},
   "outputs": [],
   "source": [
    "# Carregar o arquivo CSV\n",
    "dados = pd.read_csv('penguins_lter.csv')"
   ]
  },
  {
   "cell_type": "code",
   "execution_count": 42,
   "id": "eee84023",
   "metadata": {},
   "outputs": [
    {
     "name": "stdout",
     "output_type": "stream",
     "text": [
      "  studyName  Sample Number                              Species  Region  \\\n",
      "0   PAL0708              1  Adelie Penguin (Pygoscelis adeliae)  Anvers   \n",
      "1   PAL0708              2  Adelie Penguin (Pygoscelis adeliae)  Anvers   \n",
      "2   PAL0708              3  Adelie Penguin (Pygoscelis adeliae)  Anvers   \n",
      "3   PAL0708              4  Adelie Penguin (Pygoscelis adeliae)  Anvers   \n",
      "4   PAL0708              5  Adelie Penguin (Pygoscelis adeliae)  Anvers   \n",
      "\n",
      "      Island               Stage Individual ID Clutch Completion  Date Egg  \\\n",
      "0  Torgersen  Adult, 1 Egg Stage          N1A1               Yes  11/11/07   \n",
      "1  Torgersen  Adult, 1 Egg Stage          N1A2               Yes  11/11/07   \n",
      "2  Torgersen  Adult, 1 Egg Stage          N2A1               Yes  11/16/07   \n",
      "3  Torgersen  Adult, 1 Egg Stage          N2A2               Yes  11/16/07   \n",
      "4  Torgersen  Adult, 1 Egg Stage          N3A1               Yes  11/16/07   \n",
      "\n",
      "   Culmen Length (mm)  Culmen Depth (mm)  Flipper Length (mm)  Body Mass (g)  \\\n",
      "0                39.1               18.7                181.0         3750.0   \n",
      "1                39.5               17.4                186.0         3800.0   \n",
      "2                40.3               18.0                195.0         3250.0   \n",
      "3                 NaN                NaN                  NaN            NaN   \n",
      "4                36.7               19.3                193.0         3450.0   \n",
      "\n",
      "      Sex  Delta 15 N (o/oo)  Delta 13 C (o/oo)  \\\n",
      "0    MALE                NaN                NaN   \n",
      "1  FEMALE            8.94956          -24.69454   \n",
      "2  FEMALE            8.36821          -25.33302   \n",
      "3     NaN                NaN                NaN   \n",
      "4  FEMALE            8.76651          -25.32426   \n",
      "\n",
      "                         Comments  \n",
      "0  Not enough blood for isotopes.  \n",
      "1                             NaN  \n",
      "2                             NaN  \n",
      "3              Adult not sampled.  \n",
      "4                             NaN  \n"
     ]
    }
   ],
   "source": [
    "# Exibir as primeiras linhas para inspecionar os dados\n",
    "print(dados.head())"
   ]
  },
  {
   "cell_type": "code",
   "execution_count": 43,
   "id": "6b29db16",
   "metadata": {},
   "outputs": [
    {
     "name": "stdout",
     "output_type": "stream",
     "text": [
      "<class 'pandas.core.frame.DataFrame'>\n",
      "RangeIndex: 344 entries, 0 to 343\n",
      "Data columns (total 17 columns):\n",
      " #   Column               Non-Null Count  Dtype  \n",
      "---  ------               --------------  -----  \n",
      " 0   studyName            344 non-null    object \n",
      " 1   Sample Number        344 non-null    int64  \n",
      " 2   Species              344 non-null    object \n",
      " 3   Region               344 non-null    object \n",
      " 4   Island               344 non-null    object \n",
      " 5   Stage                344 non-null    object \n",
      " 6   Individual ID        344 non-null    object \n",
      " 7   Clutch Completion    344 non-null    object \n",
      " 8   Date Egg             344 non-null    object \n",
      " 9   Culmen Length (mm)   342 non-null    float64\n",
      " 10  Culmen Depth (mm)    342 non-null    float64\n",
      " 11  Flipper Length (mm)  342 non-null    float64\n",
      " 12  Body Mass (g)        342 non-null    float64\n",
      " 13  Sex                  334 non-null    object \n",
      " 14  Delta 15 N (o/oo)    330 non-null    float64\n",
      " 15  Delta 13 C (o/oo)    331 non-null    float64\n",
      " 16  Comments             26 non-null     object \n",
      "dtypes: float64(6), int64(1), object(10)\n",
      "memory usage: 45.8+ KB\n",
      "None\n"
     ]
    }
   ],
   "source": [
    "# Verificar informações sobre o DataFrame\n",
    "print(dados.info())"
   ]
  },
  {
   "cell_type": "code",
   "execution_count": 44,
   "id": "1bab994f",
   "metadata": {},
   "outputs": [
    {
     "name": "stdout",
     "output_type": "stream",
     "text": [
      "studyName                0\n",
      "Sample Number            0\n",
      "Species                  0\n",
      "Region                   0\n",
      "Island                   0\n",
      "Stage                    0\n",
      "Individual ID            0\n",
      "Clutch Completion        0\n",
      "Date Egg                 0\n",
      "Culmen Length (mm)       2\n",
      "Culmen Depth (mm)        2\n",
      "Flipper Length (mm)      2\n",
      "Body Mass (g)            2\n",
      "Sex                     10\n",
      "Delta 15 N (o/oo)       14\n",
      "Delta 13 C (o/oo)       13\n",
      "Comments               318\n",
      "dtype: int64\n"
     ]
    }
   ],
   "source": [
    "# Verificar valores ausentes\n",
    "print(dados.isnull().sum())"
   ]
  },
  {
   "cell_type": "code",
   "execution_count": 45,
   "id": "53788985",
   "metadata": {},
   "outputs": [
    {
     "name": "stdout",
     "output_type": "stream",
     "text": [
      "       Sample Number  Culmen Length (mm)  Culmen Depth (mm)  \\\n",
      "count     344.000000          342.000000         342.000000   \n",
      "mean       63.151163           43.921930          17.151170   \n",
      "std        40.430199            5.459584           1.974793   \n",
      "min         1.000000           32.100000          13.100000   \n",
      "25%        29.000000           39.225000          15.600000   \n",
      "50%        58.000000           44.450000          17.300000   \n",
      "75%        95.250000           48.500000          18.700000   \n",
      "max       152.000000           59.600000          21.500000   \n",
      "\n",
      "       Flipper Length (mm)  Body Mass (g)  Delta 15 N (o/oo)  \\\n",
      "count           342.000000     342.000000         330.000000   \n",
      "mean            200.915205    4201.754386           8.733382   \n",
      "std              14.061714     801.954536           0.551770   \n",
      "min             172.000000    2700.000000           7.632200   \n",
      "25%             190.000000    3550.000000           8.299890   \n",
      "50%             197.000000    4050.000000           8.652405   \n",
      "75%             213.000000    4750.000000           9.172123   \n",
      "max             231.000000    6300.000000          10.025440   \n",
      "\n",
      "       Delta 13 C (o/oo)  \n",
      "count         331.000000  \n",
      "mean          -25.686292  \n",
      "std             0.793961  \n",
      "min           -27.018540  \n",
      "25%           -26.320305  \n",
      "50%           -25.833520  \n",
      "75%           -25.062050  \n",
      "max           -23.787670  \n"
     ]
    }
   ],
   "source": [
    "# Descrição estatística das colunas numéricas\n",
    "print(dados.describe())"
   ]
  },
  {
   "cell_type": "code",
   "execution_count": 46,
   "id": "0fa53ae0",
   "metadata": {},
   "outputs": [],
   "source": [
    "# Remover linhas com valores ausentes\n",
    "dados = dados.dropna()"
   ]
  },
  {
   "cell_type": "code",
   "execution_count": 47,
   "id": "79819350",
   "metadata": {},
   "outputs": [],
   "source": [
    "# Codificando variáveis categóricas\n",
    "label_encoders = {}\n",
    "categorical_columns = ['species', 'island', 'sex'] "
   ]
  },
  {
   "cell_type": "code",
   "execution_count": 48,
   "id": "80da369e",
   "metadata": {},
   "outputs": [],
   "source": [
    "for col in categorical_columns:\n",
    "    if col in dados.columns:\n",
    "        le = LabelEncoder()\n",
    "        dados[col + '_encoded'] = le.fit_transform(dados[col])\n",
    "        label_encoders[col] = le"
   ]
  },
  {
   "cell_type": "code",
   "execution_count": 49,
   "id": "fca3f74a",
   "metadata": {
    "scrolled": true
   },
   "outputs": [
    {
     "name": "stdout",
     "output_type": "stream",
     "text": [
      "   studyName  Sample Number                              Species  Region  \\\n",
      "6    PAL0708              7  Adelie Penguin (Pygoscelis adeliae)  Anvers   \n",
      "7    PAL0708              8  Adelie Penguin (Pygoscelis adeliae)  Anvers   \n",
      "28   PAL0708             29  Adelie Penguin (Pygoscelis adeliae)  Anvers   \n",
      "29   PAL0708             30  Adelie Penguin (Pygoscelis adeliae)  Anvers   \n",
      "38   PAL0708             39  Adelie Penguin (Pygoscelis adeliae)  Anvers   \n",
      "\n",
      "       Island               Stage Individual ID Clutch Completion  Date Egg  \\\n",
      "6   Torgersen  Adult, 1 Egg Stage          N4A1                No  11/15/07   \n",
      "7   Torgersen  Adult, 1 Egg Stage          N4A2                No  11/15/07   \n",
      "28     Biscoe  Adult, 1 Egg Stage         N18A1                No  11/10/07   \n",
      "29     Biscoe  Adult, 1 Egg Stage         N18A2                No  11/10/07   \n",
      "38      Dream  Adult, 1 Egg Stage         N25A1                No  11/13/07   \n",
      "\n",
      "    Culmen Length (mm)  Culmen Depth (mm)  Flipper Length (mm)  Body Mass (g)  \\\n",
      "6                 38.9               17.8                181.0         3625.0   \n",
      "7                 39.2               19.6                195.0         4675.0   \n",
      "28                37.9               18.6                172.0         3150.0   \n",
      "29                40.5               18.9                180.0         3950.0   \n",
      "38                37.6               19.3                181.0         3300.0   \n",
      "\n",
      "       Sex  Delta 15 N (o/oo)  Delta 13 C (o/oo)  \\\n",
      "6   FEMALE            9.18718          -25.21799   \n",
      "7     MALE            9.46060          -24.89958   \n",
      "28  FEMALE            8.38404          -25.19837   \n",
      "29    MALE            8.90027          -25.11609   \n",
      "38  FEMALE            9.41131          -25.04169   \n",
      "\n",
      "                                 Comments  \n",
      "6   Nest never observed with full clutch.  \n",
      "7   Nest never observed with full clutch.  \n",
      "28  Nest never observed with full clutch.  \n",
      "29  Nest never observed with full clutch.  \n",
      "38  Nest never observed with full clutch.  \n"
     ]
    }
   ],
   "source": [
    "# Verificar as colunas após a codificação\n",
    "print(dados.head())"
   ]
  },
  {
   "cell_type": "code",
   "execution_count": 50,
   "id": "b97d7b89",
   "metadata": {},
   "outputs": [],
   "source": [
    "# Normalização das colunas numéricas\n",
    "colunas_numericas = ['Culmen Length (mm)', 'Culmen Depth (mm)', 'Flipper Length (mm)', 'Body Mass (g)']\n",
    "scaler = MinMaxScaler(feature_range=(0, 1))\n",
    "dados[colunas_numericas] = scaler.fit_transform(dados[colunas_numericas])"
   ]
  },
  {
   "cell_type": "code",
   "execution_count": 51,
   "id": "25502b4c",
   "metadata": {
    "scrolled": true
   },
   "outputs": [
    {
     "name": "stdout",
     "output_type": "stream",
     "text": [
      "Index(['studyName', 'Sample Number', 'Species', 'Region', 'Island', 'Stage',\n",
      "       'Individual ID', 'Clutch Completion', 'Date Egg', 'Culmen Length (mm)',\n",
      "       'Culmen Depth (mm)', 'Flipper Length (mm)', 'Body Mass (g)', 'Sex',\n",
      "       'Delta 15 N (o/oo)', 'Delta 13 C (o/oo)', 'Comments'],\n",
      "      dtype='object')\n"
     ]
    }
   ],
   "source": [
    "print(dados.columns)"
   ]
  },
  {
   "cell_type": "code",
   "execution_count": 52,
   "id": "a424c393",
   "metadata": {
    "scrolled": false
   },
   "outputs": [],
   "source": [
    "# Seleção de colunas para o modelo\n",
    "X = dados[['Culmen Length (mm)', 'Culmen Depth (mm)', 'Flipper Length (mm)', 'Body Mass (g)']].values\n",
    "Y = dados['Species'].values  # Note o nome correto da coluna 'species_encoded'"
   ]
  },
  {
   "cell_type": "code",
   "execution_count": 53,
   "id": "c73dc04e",
   "metadata": {},
   "outputs": [],
   "source": [
    "# Dividindo o dataset em conjunto de treino e teste\n",
    "X_treino, X_teste, Y_treino, Y_teste = train_test_split(X, Y, test_size=0.25, random_state=0)\n"
   ]
  },
  {
   "cell_type": "code",
   "execution_count": 54,
   "id": "53ffc313",
   "metadata": {},
   "outputs": [],
   "source": [
    "# Aplicando o modelo Naive-Bayes\n",
    "modelo1 = GaussianNB()\n",
    "modelo1.fit(X_treino, Y_treino)\n",
    "Y_previsto = modelo1.predict(X_teste)"
   ]
  },
  {
   "cell_type": "code",
   "execution_count": 57,
   "id": "8d7858b2",
   "metadata": {},
   "outputs": [
    {
     "data": {
      "image/png": "[encoded data removed]",
      "text/plain": [
       "<Figure size 640x480 with 2 Axes>"
      ]
     },
     "metadata": {},
     "output_type": "display_data"
    }
   ],
   "source": [
    "# Gerando a matriz de confusão e métricas de avaliação\n",
    "cm1 = confusion_matrix(Y_teste, Y_previsto)\n",
    "sns.heatmap(cm1, annot=True, fmt=\"d\")\n",
    "plt.title(\"Matriz de Confusão - GaussianNB\")\n",
    "plt.show()\n"
   ]
  },
  {
   "cell_type": "code",
   "execution_count": 58,
   "id": "1e8fc78b",
   "metadata": {},
   "outputs": [
    {
     "name": "stdout",
     "output_type": "stream",
     "text": [
      "Acurácia (Treinamento): 100.00%\n",
      "Acurácia (Teste): 100.00%\n"
     ]
    }
   ],
   "source": [
    "print(\"Acurácia (Treinamento): {:.2f}%\".format(modelo1.score(X_treino, Y_treino) * 100))\n",
    "print(\"Acurácia (Teste): {:.2f}%\".format(modelo1.score(X_teste, Y_teste) * 100))\n"
   ]
  },
  {
   "cell_type": "code",
   "execution_count": 62,
   "id": "e59cf763",
   "metadata": {},
   "outputs": [
    {
     "name": "stdout",
     "output_type": "stream",
     "text": [
      "Relatório de Classificação - GaussianNB:\n",
      "                                     precision    recall  f1-score   support\n",
      "\n",
      "Adelie Penguin (Pygoscelis adeliae)       1.00      1.00      1.00         4\n",
      "\n",
      "                           accuracy                           1.00         4\n",
      "                          macro avg       1.00      1.00      1.00         4\n",
      "                       weighted avg       1.00      1.00      1.00         4\n",
      "\n"
     ]
    }
   ],
   "source": [
    "cr = classification_report(Y_teste, Y_previsto)\n",
    "print(\"Relatório de Classificação - GaussianNB:\")\n",
    "print(cr)"
   ]
  },
  {
   "cell_type": "code",
   "execution_count": null,
   "id": "027d8453",
   "metadata": {},
   "outputs": [],
   "source": []
  }
 ],
 "metadata": {
  "kernelspec": {
   "display_name": "Python 3 (ipykernel)",
   "language": "python",
   "name": "python3"
  },
  "language_info": {
   "codemirror_mode": {
    "name": "ipython",
    "version": 3
   },
   "file_extension": ".py",
   "mimetype": "text/x-python",
   "name": "python",
   "nbconvert_exporter": "python",
   "pygments_lexer": "ipython3",
   "version": "3.11.5"
  }
 },
 "nbformat": 4,
 "nbformat_minor": 5
}
